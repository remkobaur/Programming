{
 "cells": [
  {
   "cell_type": "code",
   "execution_count": 227,
   "metadata": {},
   "outputs": [],
   "source": [
    "import numpy as np\n",
    "#from scipy.linalg import cholesky\n",
    "from numpy.linalg import cholesky\n",
    "from matplotlib import pyplot as plt\n",
    "import math"
   ]
  },
  {
   "cell_type": "code",
   "execution_count": 208,
   "metadata": {},
   "outputs": [],
   "source": [
    "# hyper parameters\n",
    "SET ={\n",
    "    \"alpha\":[0.1,0.25,0.75,1,1.5],\n",
    "    \"beta\":[0,0.5,1,2,5],\n",
    "    \"kappa\":[0.1,0.5,1,5,10]\n",
    "}   \n",
    "    "
   ]
  },
  {
   "cell_type": "code",
   "execution_count": 225,
   "metadata": {},
   "outputs": [
    {
     "name": "stdout",
     "output_type": "stream",
     "text": [
      "[[2]\n",
      " [1]]\n",
      "[[1.  0.3]\n",
      " [0.3 9. ]]\n"
     ]
    }
   ],
   "source": [
    "# declare variables\n",
    "P_0 = np.array([[1,0.3],[0.3,9]])\n",
    "x_m = np.transpose(np.array([[2,1]]))\n",
    "print(x_m)\n",
    "print(P_0)"
   ]
  },
  {
   "cell_type": "code",
   "execution_count": 235,
   "metadata": {},
   "outputs": [],
   "source": [
    "def f(x):\n",
    "    y = np.array([np.sin(x[0]),np.cos(x[1])])\n",
    "    #y = np.array([x[0],x[1]])\n",
    "    return y\n",
    "\n",
    "\n",
    "def ut_get_weights(n,alpha,beta,kappa):\n",
    "    # Compute the normal weights \n",
    "    _lambda = alpha ** 2 * (n + kappa) - n\n",
    "\n",
    "    dummy = 1 / (2 * (n + _lambda))\n",
    "    WM = np.ones((2*n+1,1))*dummy\n",
    "    WC = np.ones((2*n+1,1))*dummy\n",
    "    WM[0] = _lambda / (n + _lambda)\n",
    "    WC[0] = _lambda / (n + _lambda) + (1 - alpha ** 2 + beta)\n",
    "    c = n + _lambda \n",
    "\n",
    "    return WM,WC,c\n",
    "\n",
    "def ut_get_sigmaPoints(M,P,c):\n",
    "    #A = np.array(cholesky(P,lower=False)) #scipy\n",
    "    A = np.array(cholesky(P))  #numpy\n",
    "#    print(f\"P_0 = \\n{P}\")\n",
    "#    print(f\"A = \\n{A}\")\n",
    "#    print(f\"A*A' = \\n{A*A.T}\")\n",
    "    delta_X = np.concatenate((np.zeros_like(M), A, -1*A),axis=1)\n",
    "    #print(delta_X)\n",
    "    #print(delta_X.shape[1])\n",
    "    #print(M)\n",
    "    X_0 = np.tile(M,(1,delta_X.shape[1]))\n",
    "    #print(f\"X_0:\\n{X_0}\")\n",
    "    X = np.sqrt(c)*delta_X + X_0\n",
    "    return X\n"
   ]
  },
  {
   "cell_type": "code",
   "execution_count": 237,
   "metadata": {},
   "outputs": [],
   "source": [
    "\n",
    "def plot_dist(axs,X,Y):\n",
    "    axs[0].plot(X[0,:],X[1,:], marker='x',linestyle = 'None') \n",
    "    axs[1].plot(Y[0,:],Y[1,:], marker='x',linestyle = 'None')"
   ]
  },
  {
   "cell_type": "code",
   "execution_count": 229,
   "metadata": {},
   "outputs": [],
   "source": [
    "def do_single_run(x_m,P_x,alpha,beta,kappa):\n",
    "    # calculate sigma points\n",
    "    n = x_m.ndim\n",
    "    W = ut_get_weights(n,alpha,beta,kappa)\n",
    "    WM = W[0]\n",
    "    WC = W[1]\n",
    "    c  = W[2]\n",
    "    \n",
    "    X = ut_get_sigmaPoints(x_m,P_x,c)    \n",
    "\n",
    "    # nonlinear tranformation / propagation\n",
    "    Y = np.zeros_like(X)\n",
    "    for k in range(X.shape[1]):\n",
    "        Y.T[k] = f(X.T[k])     \n",
    "    return X,Y\n",
    "\n"
   ]
  },
  {
   "cell_type": "code",
   "execution_count": 238,
   "metadata": {},
   "outputs": [
    {
     "name": "stdout",
     "output_type": "stream",
     "text": [
      "=================\n",
      "---- Run 0\n",
      "=================\n",
      "---- Run 1\n",
      "=================\n",
      "---- Run 2\n",
      "=================\n",
      "---- Run 3\n",
      "=================\n",
      "---- Run 4\n"
     ]
    },
    {
     "data": {
      "image/png": "[encoded data removed]",
      "text/plain": [
       "<Figure size 640x480 with 2 Axes>"
      ]
     },
     "metadata": {},
     "output_type": "display_data"
    }
   ],
   "source": [
    "fig, axs = plt.subplots(1, 2)\n",
    "ax=axs[0]\n",
    "ax.set_title(\"input distribution\")\n",
    "ax.set_xlabel(\"x_1\")\n",
    "ax.set_ylabel(\"x_2\")\n",
    "ax.set_xlim([-2, 6])\n",
    "ax.set_ylim([-10, 10])\n",
    "ax.grid()\n",
    "ax=axs[1]   \n",
    "ax.set_title(\"output distribution\")\n",
    "ax.set_xlabel(\"y_1\")\n",
    "ax.set_ylabel(\"y_2\")\n",
    "ax.set_xlim([-1, 3])\n",
    "ax.set_ylim([-10, 10])\n",
    "ax.grid()\n",
    "\n",
    "alpha = 1\n",
    "beta  = 2\n",
    "kappa = 1\n",
    "\n",
    "id = 0\n",
    "for id in range(len(SET[\"alpha\"])):\n",
    "    print(f\"=================\\n---- Run {id}\")\n",
    "    alpha = SET[\"alpha\"][id]\n",
    "\n",
    "    res = do_single_run(x_m,P_0,alpha,beta,kappa)\n",
    "    X = res[0]\n",
    "    Y = res[1]\n",
    "    #print(f\"X = \\n{X}\")\n",
    "    #print(f\"Y = \\n{Y}\")\n",
    "    plot_dist(axs,X,Y)"
   ]
  },
  {
   "cell_type": "code",
   "execution_count": 214,
   "metadata": {},
   "outputs": [
    {
     "name": "stdout",
     "output_type": "stream",
     "text": [
      "(1, 3)\n"
     ]
    }
   ],
   "source": [
    "z = np.array([[1,2,3]])\n",
    "print(z.shape)\n",
    "\n"
   ]
  },
  {
   "cell_type": "code",
   "execution_count": 215,
   "metadata": {},
   "outputs": [],
   "source": [
    "%matplotlib inline\n",
    "if False:\n",
    "    x=np.arange(0,math.pi*2,0.05)\n",
    "    y=np.sin(x)\n",
    "    fig=plt.figure()\n",
    "    ax=fig.add_axes([0,0,1,1])\n",
    "    ax.plot(x,y)\n",
    "    ax.set_title(\"sine wave\")\n",
    "    ax.set_xlabel(\"angle\")\n",
    "    ax.set_ylabel(\"sine\")"
   ]
  },
  {
   "cell_type": "code",
   "execution_count": 216,
   "metadata": {},
   "outputs": [
    {
     "name": "stdout",
     "output_type": "stream",
     "text": [
      "[1 1]\n",
      "[0.84147098 0.54030231]\n"
     ]
    }
   ],
   "source": [
    "# Testing\n",
    "if True:\n",
    "    x = np.array([1,1]) #*math.pi\n",
    "    print(x)\n",
    "    y = f(x)\n",
    "    print(y)\n"
   ]
  }
 ],
 "metadata": {
  "kernelspec": {
   "display_name": "Python 3",
   "language": "python",
   "name": "python3"
  },
  "language_info": {
   "codemirror_mode": {
    "name": "ipython",
    "version": 3
   },
   "file_extension": ".py",
   "mimetype": "text/x-python",
   "name": "python",
   "nbconvert_exporter": "python",
   "pygments_lexer": "ipython3",
   "version": "3.11.4"
  },
  "orig_nbformat": 4
 },
 "nbformat": 4,
 "nbformat_minor": 2
}
