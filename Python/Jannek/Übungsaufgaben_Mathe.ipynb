{
 "cells": [
  {
   "cell_type": "code",
   "execution_count": null,
   "metadata": {},
   "outputs": [],
   "source": [
    "import os\n",
    "import numpy as np\n",
    "os.system('cls')\n"
   ]
  },
  {
   "cell_type": "code",
   "execution_count": null,
   "metadata": {},
   "outputs": [],
   "source": [
    "from Mathe_Class import Mathe_Class \n",
    "MT= Mathe_Class(2)\n",
    "task,r = MT.create_task()\n",
    "print(f\"{task} {r}\")\n",
    "\n",
    "status= MT.do_task(1)\n",
    "print(f\"{status}\")"
   ]
  },
  {
   "cell_type": "code",
   "execution_count": 13,
   "metadata": {},
   "outputs": [],
   "source": [
    "import ipywidgets as widgets\n",
    "import matplotlib.pyplot as plt\n",
    "import numpy as np\n",
    "import random\n",
    "from Mathe_Class import Mathe_Class \n",
    "\n",
    "class MathTest:\n",
    "    N = 10\n",
    "    MT=None\n",
    "\n",
    "    def __init__(self,_N=10) -> None:\n",
    "        self.N = _N\n",
    "        self.MT= Mathe_Class(self.N)\n",
    "        self.MT.tasktypes =[1,2,3,4]\n",
    "    \n",
    "    def calculation_test(self):\n",
    "        okay = 0\n",
    "        for k in range(self.N):\n",
    "            task,r = self.MT.create_task()\n",
    "            inp = self.gui_equation(k+1,task)\n",
    "            if inp == r:\n",
    "                okay +=1\n",
    "        print(\"===========================================\")\n",
    "        print(f\"Ergebnis: \\t {okay} von {self.N} richtig\")\n",
    "        print(\"===========================================\")\n",
    "\n",
    "    def correction_test(self):\n",
    "        okay = 0\n",
    "        for k in range(self.N):\n",
    "            task,r = self.MT.create_task()\n",
    "            self.gui_test(task,r)\n",
    "            # if MT.do_task(k):\n",
    "            #     okay +=1\n",
    "        print(\"===========================================\")\n",
    "        print(f\"Ergebnis: \\t {okay} von {self.N} richtig\")\n",
    "        print(\"===========================================\")\n",
    "\n",
    "    def gui_equation(self,k,task):\n",
    "        text=widgets.Text(value=f\"{task}\",\n",
    "            placeholder='',\n",
    "            description=f\"Aufgabe {k}:\",\n",
    "            width='100px',\n",
    "            disabled=True   \n",
    "        )\n",
    "        # s='{: <{}}'.format(task, 400)\n",
    "        text = widgets.Label(value=f\"Aufgabe {k}: {task}\")\n",
    "        inp_int= widgets.BoundedIntText(\n",
    "            # value=7,\n",
    "            min=0,\n",
    "            max=100,\n",
    "            step=1,\n",
    "            description='=',\n",
    "            disabled=False\n",
    "        )\n",
    "        box_layout = widgets.Layout(display='flex', flex_flow='row', justify_content='center',)\n",
    "        text_layout = widgets.Layout(width='100px')\n",
    "        vbox = widgets.VBox([widgets.HBox([text,inp_int])])\n",
    "        display(vbox)\n",
    "\n",
    "        inp = 1\n",
    "        return inp\n",
    "    \n",
    "    def gui_test(self,task,result):\n",
    "        result2=result\n",
    "\n",
    "        text=widgets.Text(value=f\"{task} = {result2}\",\n",
    "            placeholder='Type something',\n",
    "            description=f\"Aufgabe :\",\n",
    "            disabled=True ,\n",
    "            layout= widgets.Layout(display=\"flex\", justify_content=\"center\", width=\"100pt\", border=\"solid\")  \n",
    "        )\n",
    "\n",
    "        button1 = widgets.Button(description=\"Richtig\")\n",
    "        button2 = widgets.Button(description=\"Falsch\")\n",
    "        out = widgets.Output()    \n",
    "        buttons = widgets.HBox(children=[button1, button2])\n",
    "        all_widgets = widgets.HBox(children=[text,buttons, out])\n",
    "        display(all_widgets)\n",
    "\n",
    "        def logyes(b):\n",
    "            print(\"yes\")\n",
    "\n",
    "        def logno(b):\n",
    "            print(\"no\")\n",
    "        button1.on_click(logyes)\n",
    "        button2.on_click(logno)\n",
    "\n",
    "        # input(f\"{k}\")\n",
    "        # all_widgets.close()\n",
    "        # del all_widgets\n",
    "\n"
   ]
  },
  {
   "cell_type": "code",
   "execution_count": 12,
   "metadata": {},
   "outputs": [
    {
     "data": {
      "application/vnd.jupyter.widget-view+json": {
       "model_id": "46c85bac30794aa99e6ec57baa4a3011",
       "version_major": 2,
       "version_minor": 0
      },
      "text/plain": [
       "VBox(children=(HBox(children=(Label(value='Aufgabe 1: 90 : 9                                                  …"
      ]
     },
     "metadata": {},
     "output_type": "display_data"
    },
    {
     "data": {
      "application/vnd.jupyter.widget-view+json": {
       "model_id": "b1895654e725466dbfb0f3845930dfa3",
       "version_major": 2,
       "version_minor": 0
      },
      "text/plain": [
       "VBox(children=(HBox(children=(Label(value='Aufgabe 2: 9 x 2                                                   …"
      ]
     },
     "metadata": {},
     "output_type": "display_data"
    },
    {
     "data": {
      "application/vnd.jupyter.widget-view+json": {
       "model_id": "19dcdb784f4b4f699f6bf59f0e74fbf8",
       "version_major": 2,
       "version_minor": 0
      },
      "text/plain": [
       "VBox(children=(HBox(children=(Label(value='Aufgabe 3: 63 : 7                                                  …"
      ]
     },
     "metadata": {},
     "output_type": "display_data"
    },
    {
     "data": {
      "application/vnd.jupyter.widget-view+json": {
       "model_id": "f4a457e6749a4764b5ca1531d50b4e08",
       "version_major": 2,
       "version_minor": 0
      },
      "text/plain": [
       "VBox(children=(HBox(children=(Label(value='Aufgabe 4: 61 - 9                                                  …"
      ]
     },
     "metadata": {},
     "output_type": "display_data"
    },
    {
     "data": {
      "application/vnd.jupyter.widget-view+json": {
       "model_id": "65750ac62b204a7dbc577467fb30b5b2",
       "version_major": 2,
       "version_minor": 0
      },
      "text/plain": [
       "VBox(children=(HBox(children=(Label(value='Aufgabe 5: 61 + 100                                                …"
      ]
     },
     "metadata": {},
     "output_type": "display_data"
    },
    {
     "data": {
      "application/vnd.jupyter.widget-view+json": {
       "model_id": "8d01920737a746ef899914f898064de6",
       "version_major": 2,
       "version_minor": 0
      },
      "text/plain": [
       "VBox(children=(HBox(children=(Label(value='Aufgabe 6: 78 - 38                                                 …"
      ]
     },
     "metadata": {},
     "output_type": "display_data"
    },
    {
     "data": {
      "application/vnd.jupyter.widget-view+json": {
       "model_id": "2606f729ec144b12b3acdf1569bc6d5b",
       "version_major": 2,
       "version_minor": 0
      },
      "text/plain": [
       "VBox(children=(HBox(children=(Label(value='Aufgabe 7: 35 : 7                                                  …"
      ]
     },
     "metadata": {},
     "output_type": "display_data"
    },
    {
     "data": {
      "application/vnd.jupyter.widget-view+json": {
       "model_id": "085c106ec6ed4e97946c561d999ee81b",
       "version_major": 2,
       "version_minor": 0
      },
      "text/plain": [
       "VBox(children=(HBox(children=(Label(value='Aufgabe 8: 90 : 9                                                  …"
      ]
     },
     "metadata": {},
     "output_type": "display_data"
    },
    {
     "data": {
      "application/vnd.jupyter.widget-view+json": {
       "model_id": "57cf493fab2b47e7a89dd02aa1014612",
       "version_major": 2,
       "version_minor": 0
      },
      "text/plain": [
       "VBox(children=(HBox(children=(Label(value='Aufgabe 9: 9 x 1                                                   …"
      ]
     },
     "metadata": {},
     "output_type": "display_data"
    },
    {
     "data": {
      "application/vnd.jupyter.widget-view+json": {
       "model_id": "f21d6ba77dac479eb6982b0404c8f6f3",
       "version_major": 2,
       "version_minor": 0
      },
      "text/plain": [
       "VBox(children=(HBox(children=(Label(value='Aufgabe 10: 85 - 44                                                …"
      ]
     },
     "metadata": {},
     "output_type": "display_data"
    },
    {
     "name": "stdout",
     "output_type": "stream",
     "text": [
      "===========================================\n",
      "Ergebnis: \t 0 von 10 richtig\n",
      "===========================================\n"
     ]
    }
   ],
   "source": [
    "Test = MathTest(10)\n",
    "\n",
    "# Test.correction_test()\n",
    "Test.calculation_test()"
   ]
  }
 ],
 "metadata": {
  "kernelspec": {
   "display_name": "Python 3",
   "language": "python",
   "name": "python3"
  },
  "language_info": {
   "codemirror_mode": {
    "name": "ipython",
    "version": 3
   },
   "file_extension": ".py",
   "mimetype": "text/x-python",
   "name": "python",
   "nbconvert_exporter": "python",
   "pygments_lexer": "ipython3",
   "version": "3.11.4"
  },
  "orig_nbformat": 4
 },
 "nbformat": 4,
 "nbformat_minor": 2
}
